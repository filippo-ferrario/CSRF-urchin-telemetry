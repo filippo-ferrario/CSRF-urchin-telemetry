{
 "cells": [
  {
   "cell_type": "markdown",
   "id": "cf78dce9-89f3-4f2b-a8ff-7b007c467650",
   "metadata": {},
   "source": [
    "***\n",
    "Title     : `00-main.ipynb`<br>\n",
    "Author    : Paul Covert<br>\n",
    "Date      : 2025-02-15<br>\n",
    "Version   : 1.0.0<br>\n",
    "URL       : <br>\n",
    "Aim       : Jupyter notebook for exploration of environmental data.  Use `00-main.py` for production calculations and visualization.\n",
    "***"
   ]
  },
  {
   "cell_type": "code",
   "execution_count": 28,
   "id": "c6ffa9a1-f235-407f-bf11-48817132018d",
   "metadata": {},
   "outputs": [
    {
     "ename": "SyntaxError",
     "evalue": "invalid syntax (90649426.py, line 7)",
     "output_type": "error",
     "traceback": [
      "\u001b[0;36m  Cell \u001b[0;32mIn[28], line 7\u001b[0;36m\u001b[0m\n\u001b[0;31m    import 00-consts.py\u001b[0m\n\u001b[0m           ^\u001b[0m\n\u001b[0;31mSyntaxError\u001b[0m\u001b[0;31m:\u001b[0m invalid syntax\n"
     ]
    }
   ],
   "source": [
    "from pathlib import Path\n",
    "import numpy as np\n",
    "import pandas as pd\n",
    "import matplotlib.pyplot as plt\n",
    "import adcp\n",
    "import tcm\n",
    "import 00-consts.py"
   ]
  },
  {
   "cell_type": "code",
   "execution_count": 8,
   "id": "2a089868-f2ff-4d67-ad35-4f3ef33239f3",
   "metadata": {},
   "outputs": [],
   "source": [
    "# Define root data path\n",
    "DATA_RAW = Path(\"../data\")\n",
    "\n",
    "# Define site data paths\n",
    "BIC = Path(DATA_RAW, \"raw_data_downloads_bic_2022\")\n",
    "CACOUNA = Path(DATA_RAW, \"raw_data_downloads_cacouna_2022\")\n",
    "RUPERT = Path(DATA_RAW, \"raw_data_downloads_prince_rupert_2023\")\n",
    "QUADRA = Path(DATA_RAW, \"raw_data_downloads_quadra_2023\")\n",
    "\n",
    "# Define ADCP data paths\n",
    "BIC_ANSE_DES_PILOTES_ADCP = Path(\n",
    "    BIC, \"sensors_anse_des_pilotes\", \"ADCP\", \"MADCP_2022098_AnsePilotes_19235_VEL.nc\"\n",
    ")\n",
    "BIC_LA_BALEINE_ADCP = Path(\n",
    "    BIC, \"sensors_la_baleine\", \"ADCP\", \"MADCP_2022098_LaBaleine_8601_VEL.nc\"\n",
    ")\n",
    "CACOUNA_ILE_AUX_LIEVRES_1_ADCP = Path(\n",
    "    CACOUNA, \"ADCP_between_2_sites\", \"MADCP_2022098_IleauxLievres1_24788_VEL.nc\"\n",
    ")\n",
    "CACOUNA_ILE_AUX_LIEVRES_2_ADCP = Path(\n",
    "    CACOUNA, \"ADCP_between_2_sites\", \"MADCP_2022098_IleauxLievres2_19238_VEL.nc\"\n",
    ")\n",
    "RUPERT_TUGWELL_1_ADCP = Path(\n",
    "    RUPERT, \"sensors_tugwell1\", \"ADCP\", \"MADCP_2023098_Tugwell1_24788_VEL.nc\"\n",
    ")\n",
    "RUPERT_TUGWELL_2_ADCP = Path(\n",
    "    RUPERT, \"sensors_tugwell2\", \"ADCP\", \"MADCP_2023098_Tugwell2_19238_VEL.nc\"\n",
    ")\n",
    "QUADRA_MARINA_1_ADCP = Path(\n",
    "    QUADRA, \"sensors_marina1\", \"ADCP\", \"MADCP_2023098_Marina1_8601_VEL.nc\"\n",
    ")\n",
    "QUADRA_MARINA_2_ADCP = Path(\n",
    "    QUADRA, \"sensors_marina2\", \"ADCP\", \"MADCP_2023098_Marina2_19235_VEL.nc\"\n",
    ")\n",
    "ALL_ADCP = [\n",
    "    BIC_ANSE_DES_PILOTES_ADCP,\n",
    "    BIC_LA_BALEINE_ADCP,\n",
    "    CACOUNA_ILE_AUX_LIEVRES_1_ADCP,\n",
    "    CACOUNA_ILE_AUX_LIEVRES_2_ADCP,\n",
    "    RUPERT_TUGWELL_1_ADCP,\n",
    "    RUPERT_TUGWELL_2_ADCP,\n",
    "    QUADRA_MARINA_1_ADCP,\n",
    "    QUADRA_MARINA_2_ADCP,\n",
    "]\n",
    "\n",
    "# Define TCM data paths\n",
    "BIC_ANSE_DES_PILOTES_TCM = Path(\n",
    "    BIC, \"sensors_anse_des_pilotes\", \"TCM\", \"2206004_Bic1_(0)_Current.csv\"\n",
    ")\n",
    "BIC_LA_BALEINE_TCM = Path(\n",
    "    BIC, \"sensors_la_baleine\", \"TCM\", \"2206005_Bic2_(0)_Current.csv\"\n",
    ")\n",
    "CACOUNA_ILE_AUX_LIEVRES_1_TCM = Path(\n",
    "    CACOUNA, \"sensors_southwest\", \"TCM\", \"2206002_IleauxLievres1_(0)_Current.csv\"\n",
    ")\n",
    "CACOUNA_ILE_AUX_LIEVRES_2_TCM = Path(\n",
    "    CACOUNA, \"sensors_northeast\", \"TCM\", \"2206003_IleauxLievres2_(0)_Current.csv\"\n",
    ")\n",
    "RUPERT_TUGWELL_1_TCM = Path(RUPERT, \"sensors_tugwell1\", \"TCM\", \"\")\n",
    "RUPERT_TUGWELL_2_TCM = Path(RUPERT, \"sensors_tugwell2\", \"TCM\", \"\")\n",
    "QUADRA_MARINA_1_TCM = Path(QUADRA, \"sensors_marina1\", \"TCM\", \"\")\n",
    "QUADRA_MARINA_2_TCM = Path(QUADRA, \"sensors_marina2\", \"TCM\", \"\")\n",
    "ALL_TCM = [\n",
    "    BIC_ANSE_DES_PILOTES_TCM,\n",
    "    BIC_LA_BALEINE_TCM,\n",
    "    CACOUNA_ILE_AUX_LIEVRES_1_TCM,\n",
    "    CACOUNA_ILE_AUX_LIEVRES_2_TCM,\n",
    "    RUPERT_TUGWELL_1_TCM,\n",
    "    RUPERT_TUGWELL_2_TCM,\n",
    "    QUADRA_MARINA_1_TCM,\n",
    "    QUADRA_MARINA_2_TCM,\n",
    "]\n",
    "\n",
    "BIC_ANSE_DES_PILOTES_TCM_TIMEBOUNDS = []\n",
    "BIC_LA_BALEINE_TCM_TIMEBOUNDS = []\n",
    "CACOUNA_ILE_AUX_LIEVRES_1_TCM_TIMEBOUNDS = []\n",
    "CACOUNA_ILE_AUX_LIEVRES_2_TCM_TIMEBOUNDS = []\n",
    "RUPERT_TUGWELL_1_TCM_TIMEBOUNDS = []\n",
    "RUPERT_TUGWELL_2_TCM_TIMEBOUNDS = []\n",
    "QUADRA_MARINA_1_TCM_TIMEBOUNDS = []\n",
    "QUADRA_MARINA_2_TCM_TIMEBOUNDS = []"
   ]
  },
  {
   "cell_type": "code",
   "execution_count": 25,
   "id": "f1af5266-0914-4461-a657-d0d831ca7235",
   "metadata": {},
   "outputs": [
    {
     "data": {
      "image/png": "[encoded data removed]",
      "text/plain": [
       "<Figure size 1400x400 with 4 Axes>"
      ]
     },
     "metadata": {},
     "output_type": "display_data"
    }
   ],
   "source": [
    "fig, ax = plt.subplots(nrows=1, ncols=4, figsize=(14,4))\n",
    "\n",
    "for adcp_filepath, tcm_filepath in zip(ALL_ADCP[0:4], ALL_TCM[0:4]):\n",
    "\n",
    "    # Load adcp and tcm files\n",
    "    ds_adcp = adcp.open_dataset(adcp_filepath)\n",
    "    df_tcm = tcm.read_csv(tcm_filepath)\n",
    "\n",
    "    # Trim tcm files\n",
    "\n",
    "    # Estimate adcp altitude, assuming transduce is ~0.5m above bottom\n",
    "    ds_adcp[\"xducer_altitude\"] = (ds_adcp[\"xducer_depth\"] + 0.5) - np.max(ds_adcp[\"depth\"])\n",
    "\n",
    "    # Select deepest adcp current measurement\n",
    "    ds_adcp = ds_adcp.sel(depth=np.max(ds_adcp[\"depth\"]))\n",
    "    ds_adcp = ds_adcp.dropna(\"time\")\n",
    "    df_adcp = ds_adcp.to_pandas()\n",
    "\n",
    "    # Interpolate tcm speed and direction onto adcp timeseries\n",
    "    # Note: tcm measures current once per minute, while adcp current is once\n",
    "    #       every 5 minutes\n",
    "    df_adcp[\"speed_tcm\"] = np.interp(df_adcp.index, df_tcm.index, df_tcm[\"speed\"])\n",
    "    df_adcp[\"dir_tcm\"] = np.interp(df_adcp.index, df_tcm.index, df_tcm[\"dir\"])\n",
    "\n",
    "    \n",
    "\n",
    "    "
   ]
  },
  {
   "cell_type": "code",
   "execution_count": null,
   "id": "94231742-7ee8-4ad2-ad6c-507c6a7a02d6",
   "metadata": {},
   "outputs": [],
   "source": []
  }
 ],
 "metadata": {
  "kernelspec": {
   "display_name": "Python 3 (ipykernel)",
   "language": "python",
   "name": "python3"
  },
  "language_info": {
   "codemirror_mode": {
    "name": "ipython",
    "version": 3
   },
   "file_extension": ".py",
   "mimetype": "text/x-python",
   "name": "python",
   "nbconvert_exporter": "python",
   "pygments_lexer": "ipython3",
   "version": "3.11.11"
  }
 },
 "nbformat": 4,
 "nbformat_minor": 5
}
